{
 "cells": [
  {
   "cell_type": "code",
   "execution_count": 1,
   "metadata": {},
   "outputs": [
    {
     "data": {
      "text/plain": [
       "2604553410"
      ]
     },
     "execution_count": 1,
     "metadata": {},
     "output_type": "execute_result"
    }
   ],
   "source": [
    "import os\n",
    "os.path.getsize('D:\\DataGlacier Internship\\Week6\\Dataset\\Trip_Records.csv')"
   ]
  },
  {
   "cell_type": "code",
   "execution_count": 2,
   "metadata": {
    "colab": {
     "base_uri": "https://localhost:8080/",
     "height": 373
    },
    "id": "idKASEFM9lJI",
    "outputId": "a1142328-785a-477b-96d4-e4880f4f651d"
   },
   "outputs": [
    {
     "name": "stderr",
     "output_type": "stream",
     "text": [
      "C:\\Users\\varsh\\anaconda3\\Lib\\site-packages\\pandas\\core\\arrays\\masked.py:60: UserWarning: Pandas requires version '1.3.6' or newer of 'bottleneck' (version '1.3.5' currently installed).\n",
      "  from pandas.core import (\n"
     ]
    },
    {
     "name": "stdout",
     "output_type": "stream",
     "text": [
      "Time taken by Pandas: 548.6511058807373 seconds\n"
     ]
    }
   ],
   "source": [
    "import pandas as pd\n",
    "import time\n",
    "file_path = 'D:\\DataGlacier Internship\\Week6\\Dataset\\Trip_Records.csv'\n",
    "\n",
    "# Method 1: Pandas\n",
    "start_time_pandas = time.time()\n",
    "df_pandas = pd.read_csv(file_path)\n",
    "end_time = time.time()\n",
    "time_pandas = end_time - start_time_pandas\n",
    "print(\"Time taken by Pandas:\", time_pandas, \"seconds\")"
   ]
  },
  {
   "cell_type": "code",
   "execution_count": 3,
   "metadata": {},
   "outputs": [
    {
     "name": "stdout",
     "output_type": "stream",
     "text": [
      "Time taken by Dask: 3.003405809402466 seconds\n"
     ]
    }
   ],
   "source": [
    "from dask import dataframe as dd\n",
    "\n",
    "# Method 2: Dask\n",
    "start_time_desk = time.time()\n",
    "df_dask = dd.read_csv(file_path,dtype={'DOLocationID': 'float64','PULocationID': 'float64','trip_time': 'float64'})\n",
    "end_time = time.time()\n",
    "time_dask = end_time - start_time_desk\n",
    "print(\"Time taken by Dask:\", time_dask, \"seconds\")"
   ]
  },
  {
   "cell_type": "code",
   "execution_count": 4,
   "metadata": {},
   "outputs": [],
   "source": [
    "def clean_col_names(df):\n",
    "    df.columns = df.columns.str.replace('[^a-zA-Z0-9]', '', regex=True).str.strip().str.lower()\n",
    "    return df\n",
    "\n",
    "data = df_dask.map_partitions(clean_col_names)"
   ]
  },
  {
   "cell_type": "code",
   "execution_count": 5,
   "metadata": {},
   "outputs": [
    {
     "data": {
      "text/html": [
       "<div>\n",
       "<style scoped>\n",
       "    .dataframe tbody tr th:only-of-type {\n",
       "        vertical-align: middle;\n",
       "    }\n",
       "\n",
       "    .dataframe tbody tr th {\n",
       "        vertical-align: top;\n",
       "    }\n",
       "\n",
       "    .dataframe thead th {\n",
       "        text-align: right;\n",
       "    }\n",
       "</style>\n",
       "<table border=\"1\" class=\"dataframe\">\n",
       "  <thead>\n",
       "    <tr style=\"text-align: right;\">\n",
       "      <th></th>\n",
       "      <th>hvfhslicensenum</th>\n",
       "      <th>dispatchingbasenum</th>\n",
       "      <th>originatingbasenum</th>\n",
       "      <th>requestdatetime</th>\n",
       "      <th>onscenedatetime</th>\n",
       "      <th>pickupdatetime</th>\n",
       "      <th>dropoffdatetime</th>\n",
       "      <th>pulocationid</th>\n",
       "      <th>dolocationid</th>\n",
       "      <th>tripmiles</th>\n",
       "      <th>...</th>\n",
       "      <th>salestax</th>\n",
       "      <th>congestionsurcharge</th>\n",
       "      <th>airportfee</th>\n",
       "      <th>tips</th>\n",
       "      <th>driverpay</th>\n",
       "      <th>sharedrequestflag</th>\n",
       "      <th>sharedmatchflag</th>\n",
       "      <th>accessarideflag</th>\n",
       "      <th>wavrequestflag</th>\n",
       "      <th>wavmatchflag</th>\n",
       "    </tr>\n",
       "  </thead>\n",
       "  <tbody>\n",
       "    <tr>\n",
       "      <th>0</th>\n",
       "      <td>HV0005</td>\n",
       "      <td>B03406</td>\n",
       "      <td>NaN</td>\n",
       "      <td>03/04/2022 07:52:25 PM</td>\n",
       "      <td>NaN</td>\n",
       "      <td>03/04/2022 07:55:46 PM</td>\n",
       "      <td>03/04/2022 08:12:33 PM</td>\n",
       "      <td>87.0</td>\n",
       "      <td>45.0</td>\n",
       "      <td>1.678</td>\n",
       "      <td>...</td>\n",
       "      <td>1.39</td>\n",
       "      <td>2.75</td>\n",
       "      <td>0.0</td>\n",
       "      <td>3.03</td>\n",
       "      <td>10.89</td>\n",
       "      <td>N</td>\n",
       "      <td>N</td>\n",
       "      <td>N</td>\n",
       "      <td>N</td>\n",
       "      <td>N</td>\n",
       "    </tr>\n",
       "    <tr>\n",
       "      <th>1</th>\n",
       "      <td>HV0005</td>\n",
       "      <td>B03406</td>\n",
       "      <td>NaN</td>\n",
       "      <td>03/04/2022 07:35:00 PM</td>\n",
       "      <td>NaN</td>\n",
       "      <td>03/04/2022 07:37:16 PM</td>\n",
       "      <td>03/04/2022 08:01:47 PM</td>\n",
       "      <td>112.0</td>\n",
       "      <td>141.0</td>\n",
       "      <td>5.315</td>\n",
       "      <td>...</td>\n",
       "      <td>1.92</td>\n",
       "      <td>2.75</td>\n",
       "      <td>0.0</td>\n",
       "      <td>0.00</td>\n",
       "      <td>19.24</td>\n",
       "      <td>N</td>\n",
       "      <td>N</td>\n",
       "      <td>N</td>\n",
       "      <td>N</td>\n",
       "      <td>N</td>\n",
       "    </tr>\n",
       "    <tr>\n",
       "      <th>2</th>\n",
       "      <td>HV0005</td>\n",
       "      <td>B03406</td>\n",
       "      <td>NaN</td>\n",
       "      <td>03/04/2022 07:27:57 PM</td>\n",
       "      <td>NaN</td>\n",
       "      <td>03/04/2022 07:34:05 PM</td>\n",
       "      <td>03/04/2022 08:02:38 PM</td>\n",
       "      <td>138.0</td>\n",
       "      <td>148.0</td>\n",
       "      <td>10.901</td>\n",
       "      <td>...</td>\n",
       "      <td>3.42</td>\n",
       "      <td>2.75</td>\n",
       "      <td>2.5</td>\n",
       "      <td>0.00</td>\n",
       "      <td>27.88</td>\n",
       "      <td>N</td>\n",
       "      <td>N</td>\n",
       "      <td>N</td>\n",
       "      <td>N</td>\n",
       "      <td>N</td>\n",
       "    </tr>\n",
       "    <tr>\n",
       "      <th>3</th>\n",
       "      <td>HV0003</td>\n",
       "      <td>B03404</td>\n",
       "      <td>B03404</td>\n",
       "      <td>03/04/2022 07:14:10 PM</td>\n",
       "      <td>03/04/2022 07:20:45 PM</td>\n",
       "      <td>03/04/2022 07:21:17 PM</td>\n",
       "      <td>03/04/2022 07:38:43 PM</td>\n",
       "      <td>97.0</td>\n",
       "      <td>61.0</td>\n",
       "      <td>2.350</td>\n",
       "      <td>...</td>\n",
       "      <td>1.34</td>\n",
       "      <td>0.00</td>\n",
       "      <td>0.0</td>\n",
       "      <td>0.00</td>\n",
       "      <td>12.99</td>\n",
       "      <td>N</td>\n",
       "      <td>N</td>\n",
       "      <td>NaN</td>\n",
       "      <td>N</td>\n",
       "      <td>N</td>\n",
       "    </tr>\n",
       "    <tr>\n",
       "      <th>4</th>\n",
       "      <td>HV0003</td>\n",
       "      <td>B03404</td>\n",
       "      <td>B03404</td>\n",
       "      <td>03/04/2022 07:06:41 PM</td>\n",
       "      <td>03/04/2022 07:09:34 PM</td>\n",
       "      <td>03/04/2022 07:10:46 PM</td>\n",
       "      <td>03/04/2022 07:33:09 PM</td>\n",
       "      <td>114.0</td>\n",
       "      <td>262.0</td>\n",
       "      <td>7.020</td>\n",
       "      <td>...</td>\n",
       "      <td>2.20</td>\n",
       "      <td>2.75</td>\n",
       "      <td>0.0</td>\n",
       "      <td>4.57</td>\n",
       "      <td>23.99</td>\n",
       "      <td>N</td>\n",
       "      <td>N</td>\n",
       "      <td>NaN</td>\n",
       "      <td>N</td>\n",
       "      <td>N</td>\n",
       "    </tr>\n",
       "  </tbody>\n",
       "</table>\n",
       "<p>5 rows × 24 columns</p>\n",
       "</div>"
      ],
      "text/plain": [
       "  hvfhslicensenum dispatchingbasenum originatingbasenum  \\\n",
       "0          HV0005             B03406                NaN   \n",
       "1          HV0005             B03406                NaN   \n",
       "2          HV0005             B03406                NaN   \n",
       "3          HV0003             B03404             B03404   \n",
       "4          HV0003             B03404             B03404   \n",
       "\n",
       "          requestdatetime         onscenedatetime          pickupdatetime  \\\n",
       "0  03/04/2022 07:52:25 PM                     NaN  03/04/2022 07:55:46 PM   \n",
       "1  03/04/2022 07:35:00 PM                     NaN  03/04/2022 07:37:16 PM   \n",
       "2  03/04/2022 07:27:57 PM                     NaN  03/04/2022 07:34:05 PM   \n",
       "3  03/04/2022 07:14:10 PM  03/04/2022 07:20:45 PM  03/04/2022 07:21:17 PM   \n",
       "4  03/04/2022 07:06:41 PM  03/04/2022 07:09:34 PM  03/04/2022 07:10:46 PM   \n",
       "\n",
       "          dropoffdatetime  pulocationid  dolocationid  tripmiles  ...  \\\n",
       "0  03/04/2022 08:12:33 PM          87.0          45.0      1.678  ...   \n",
       "1  03/04/2022 08:01:47 PM         112.0         141.0      5.315  ...   \n",
       "2  03/04/2022 08:02:38 PM         138.0         148.0     10.901  ...   \n",
       "3  03/04/2022 07:38:43 PM          97.0          61.0      2.350  ...   \n",
       "4  03/04/2022 07:33:09 PM         114.0         262.0      7.020  ...   \n",
       "\n",
       "   salestax  congestionsurcharge  airportfee  tips  driverpay  \\\n",
       "0      1.39                 2.75         0.0  3.03      10.89   \n",
       "1      1.92                 2.75         0.0  0.00      19.24   \n",
       "2      3.42                 2.75         2.5  0.00      27.88   \n",
       "3      1.34                 0.00         0.0  0.00      12.99   \n",
       "4      2.20                 2.75         0.0  4.57      23.99   \n",
       "\n",
       "   sharedrequestflag  sharedmatchflag  accessarideflag  wavrequestflag  \\\n",
       "0                  N                N                N               N   \n",
       "1                  N                N                N               N   \n",
       "2                  N                N                N               N   \n",
       "3                  N                N              NaN               N   \n",
       "4                  N                N              NaN               N   \n",
       "\n",
       "  wavmatchflag  \n",
       "0            N  \n",
       "1            N  \n",
       "2            N  \n",
       "3            N  \n",
       "4            N  \n",
       "\n",
       "[5 rows x 24 columns]"
      ]
     },
     "execution_count": 5,
     "metadata": {},
     "output_type": "execute_result"
    }
   ],
   "source": [
    "data.head()"
   ]
  },
  {
   "cell_type": "code",
   "execution_count": 6,
   "metadata": {},
   "outputs": [
    {
     "name": "stdout",
     "output_type": "stream",
     "text": [
      "<class 'dask.dataframe.core.DataFrame'>\n",
      "Columns: 24 entries, hvfhslicensenum to wavmatchflag\n",
      "dtypes: object(12), float64(12)"
     ]
    }
   ],
   "source": [
    "data.info()"
   ]
  },
  {
   "cell_type": "code",
   "execution_count": 7,
   "metadata": {},
   "outputs": [
    {
     "name": "stdout",
     "output_type": "stream",
     "text": [
      "Number of rows :  16049320\n"
     ]
    }
   ],
   "source": [
    "print('Number of rows : ',len(data.index))"
   ]
  },
  {
   "cell_type": "code",
   "execution_count": 8,
   "metadata": {},
   "outputs": [
    {
     "name": "stdout",
     "output_type": "stream",
     "text": [
      "Number of columns :  24\n"
     ]
    }
   ],
   "source": [
    "print('Number of columns : ',len(data.columns))"
   ]
  },
  {
   "cell_type": "code",
   "execution_count": 9,
   "metadata": {},
   "outputs": [
    {
     "data": {
      "text/plain": [
       "Index(['hvfhslicensenum', 'dispatchingbasenum', 'originatingbasenum',\n",
       "       'requestdatetime', 'onscenedatetime', 'pickupdatetime',\n",
       "       'dropoffdatetime', 'pulocationid', 'dolocationid', 'tripmiles',\n",
       "       'triptime', 'basepassengerfare', 'tolls', 'bcf', 'salestax',\n",
       "       'congestionsurcharge', 'airportfee', 'tips', 'driverpay',\n",
       "       'sharedrequestflag', 'sharedmatchflag', 'accessarideflag',\n",
       "       'wavrequestflag', 'wavmatchflag'],\n",
       "      dtype='object')"
      ]
     },
     "execution_count": 9,
     "metadata": {},
     "output_type": "execute_result"
    }
   ],
   "source": [
    "data_cols = data.columns\n",
    "data_cols"
   ]
  },
  {
   "cell_type": "code",
   "execution_count": 10,
   "metadata": {},
   "outputs": [],
   "source": [
    "# remove special characters from column names\n",
    "df_pandas.columns = df_pandas.columns.str.replace('[^a-zA-Z0-9]+', '')\n",
    "\n",
    "# remove whitespaces from column names\n",
    "df_pandas.columns = df_pandas.columns.str.strip().str.lower()\n",
    "\n",
    "# check for missing values in each column\n",
    "missing_values = df_pandas.isnull().sum()\n",
    "\n",
    "# check for duplicates\n",
    "duplicates = df_pandas[df_pandas.duplicated()]"
   ]
  },
  {
   "cell_type": "code",
   "execution_count": 11,
   "metadata": {},
   "outputs": [
    {
     "data": {
      "text/plain": [
       "Index(['hvfhs_license_num', 'dispatching_base_num', 'originating_base_num',\n",
       "       'request_datetime', 'on_scene_datetime', 'pickup_datetime',\n",
       "       'dropoff_datetime', 'pulocationid', 'dolocationid', 'trip_miles',\n",
       "       'trip_time', 'base_passenger_fare', 'tolls', 'bcf', 'sales_tax',\n",
       "       'congestion_surcharge', 'airport_fee', 'tips', 'driver_pay',\n",
       "       'shared_request_flag', 'shared_match_flag', 'access_a_ride_flag',\n",
       "       'wav_request_flag', 'wav_match_flag'],\n",
       "      dtype='object')"
      ]
     },
     "execution_count": 11,
     "metadata": {},
     "output_type": "execute_result"
    }
   ],
   "source": [
    "df_pandas.columns"
   ]
  },
  {
   "cell_type": "code",
   "execution_count": 13,
   "metadata": {},
   "outputs": [],
   "source": [
    "#We will load this YAML and validate the columns\n",
    "import yaml\n",
    "\n",
    "with open('D:\\DataGlacier Internship\\Week6\\schema.yaml', 'r') as file:\n",
    "    schema = yaml.safe_load(file)\n",
    "\n",
    "# Validate columns\n",
    "assert set(df_pandas.columns) == set(schema['columns']), \"Column mismatch!\""
   ]
  },
  {
   "cell_type": "code",
   "execution_count": 31,
   "metadata": {},
   "outputs": [],
   "source": [
    "#After processing, write the data to a pipe-separated, gzipped text file\n",
    "subset = df_pandas[:1000000]\n",
    "subset.to_csv('D:\\DataGlacier Internship\\Week6\\output_file.gz', sep='|', compression='gzip', index=False)"
   ]
  },
  {
   "cell_type": "code",
   "execution_count": 32,
   "metadata": {},
   "outputs": [
    {
     "data": {
      "text/plain": [
       "33073582"
      ]
     },
     "execution_count": 32,
     "metadata": {},
     "output_type": "execute_result"
    }
   ],
   "source": [
    "os.path.getsize('D:\\DataGlacier Internship\\Week6\\output_file.gz')"
   ]
  }
 ],
 "metadata": {
  "colab": {
   "provenance": []
  },
  "kernelspec": {
   "display_name": "Python 3 (ipykernel)",
   "language": "python",
   "name": "python3"
  },
  "language_info": {
   "codemirror_mode": {
    "name": "ipython",
    "version": 3
   },
   "file_extension": ".py",
   "mimetype": "text/x-python",
   "name": "python",
   "nbconvert_exporter": "python",
   "pygments_lexer": "ipython3",
   "version": "3.11.5"
  }
 },
 "nbformat": 4,
 "nbformat_minor": 1
}
